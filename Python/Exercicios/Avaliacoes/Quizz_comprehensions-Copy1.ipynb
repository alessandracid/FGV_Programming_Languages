{
 "cells": [
  {
   "cell_type": "markdown",
   "metadata": {},
   "source": [
    "1 - Dada a string abaixo:"
   ]
  },
  {
   "cell_type": "code",
   "execution_count": 13,
   "metadata": {},
   "outputs": [],
   "source": [
    "jgr = 'Só se pode viver perto de outro, e conhecer outra pessoa, \\\n",
    "sem perigo de ódio, se a gente tem amor. Qualquer amor já é um pouquinho \\\n",
    "de saúde, um descanso na loucura.'"
   ]
  },
  {
   "cell_type": "markdown",
   "metadata": {},
   "source": [
    "Use uma list comprehension para criar uma lista de tuplas na forma:\n",
    "(palavra em maiúscula, palavra em minúscula, tamanho da palavra)"
   ]
  },
  {
   "cell_type": "code",
   "execution_count": 6,
   "metadata": {},
   "outputs": [
    {
     "name": "stdout",
     "output_type": "stream",
     "text": [
      "[('SÓ', 'só', 2), ('SE', 'se', 2), ('PODE', 'pode', 4), ('VIVER', 'viver', 5), ('PERTO', 'perto', 5), ('DE', 'de', 2), ('OUTRO,', 'outro,', 6), ('E', 'e', 1), ('CONHECER', 'conhecer', 8), ('OUTRA', 'outra', 5), ('PESSOA,', 'pessoa,', 7), ('SEM', 'sem', 3), ('PERIGO', 'perigo', 6), ('DE', 'de', 2), ('ÓDIO,', 'ódio,', 5), ('SE', 'se', 2), ('A', 'a', 1), ('GENTE', 'gente', 5), ('TEM', 'tem', 3), ('AMOR.', 'amor.', 5), ('QUALQUER', 'qualquer', 8), ('AMOR', 'amor', 4), ('JÁ', 'já', 2), ('É', 'é', 1), ('UM', 'um', 2), ('POUQUINHO', 'pouquinho', 9), ('DE', 'de', 2), ('SAÚDE,', 'saúde,', 6), ('UM', 'um', 2), ('DESCANSO', 'descanso', 8), ('NA', 'na', 2), ('LOUCURA.', 'loucura.', 8)]\n"
     ]
    }
   ],
   "source": [
    "jgr = 'Só se pode viver perto de outro, e conhecer outra pessoa, \\\n",
    "sem perigo de ódio, se a gente tem amor. Qualquer amor já é um pouquinho \\\n",
    "de saúde, um descanso na loucura.'\n",
    "\n",
    "palavras = [(x.upper(),x.lower(),len(x)) for x in jgr.split()] \n",
    "print(palavras)\n"
   ]
  },
  {
   "cell_type": "markdown",
   "metadata": {},
   "source": [
    "2 - Extraia, do texto abaixo, um dicionário de frequências de palavras na forma {palavra: frequência}. Limpe as palavras no quanto for possível."
   ]
  },
  {
   "cell_type": "code",
   "execution_count": 10,
   "metadata": {},
   "outputs": [],
   "source": [
    "texto = '''\n",
    "Cansaço\n",
    "O que há em mim é sobretudo cansaço —\n",
    "Não disto nem daquilo,\n",
    "Nem sequer de tudo ou de nada:\n",
    "Cansaço assim mesmo, ele mesmo,\n",
    "Cansaço.\n",
    "\n",
    "A subtileza das sensações inúteis,\n",
    "As paixões violentas por coisa nenhuma,\n",
    "Os amores intensos por o suposto em alguém,\n",
    "Essas coisas todas —\n",
    "Essas e o que falta nelas eternamente —;\n",
    "Tudo isso faz um cansaço,\n",
    "Este cansaço,\n",
    "Cansaço. \n",
    "\n",
    "'''"
   ]
  },
  {
   "cell_type": "code",
   "execution_count": 15,
   "metadata": {},
   "outputs": [],
   "source": [
    "import string"
   ]
  },
  {
   "cell_type": "code",
   "execution_count": 138,
   "metadata": {},
   "outputs": [],
   "source": [
    "texto2 = \"\"\n",
    "\n",
    "pontuacao = string.punctuation\n",
    "pontuacao = pontuacao + \"—\"\n",
    "\n",
    "for word in texto:\n",
    "    if word not in pontuacao:\n",
    "        texto2 = texto2 + word\n",
    "    texto2\n",
    "    \n",
    "texto3 = texto2.split()\n",
    "\n",
    "wordfreq = {}\n",
    "for word in texto3:\n",
    "    word = word.lower()\n",
    "    if word not in wordfreq:\n",
    "        wordfreq[word] = 0 \n",
    "    wordfreq[word] += 1"
   ]
  },
  {
   "cell_type": "code",
   "execution_count": 139,
   "metadata": {},
   "outputs": [
    {
     "data": {
      "text/plain": [
       "{'a': 1,\n",
       " 'alguém': 1,\n",
       " 'amores': 1,\n",
       " 'as': 1,\n",
       " 'assim': 1,\n",
       " 'cansaço': 7,\n",
       " 'coisa': 1,\n",
       " 'coisas': 1,\n",
       " 'daquilo': 1,\n",
       " 'das': 1,\n",
       " 'de': 2,\n",
       " 'disto': 1,\n",
       " 'e': 1,\n",
       " 'ele': 1,\n",
       " 'em': 2,\n",
       " 'essas': 2,\n",
       " 'este': 1,\n",
       " 'eternamente': 1,\n",
       " 'falta': 1,\n",
       " 'faz': 1,\n",
       " 'há': 1,\n",
       " 'intensos': 1,\n",
       " 'inúteis': 1,\n",
       " 'isso': 1,\n",
       " 'mesmo': 2,\n",
       " 'mim': 1,\n",
       " 'nada': 1,\n",
       " 'nelas': 1,\n",
       " 'nem': 2,\n",
       " 'nenhuma': 1,\n",
       " 'não': 1,\n",
       " 'o': 3,\n",
       " 'os': 1,\n",
       " 'ou': 1,\n",
       " 'paixões': 1,\n",
       " 'por': 2,\n",
       " 'que': 2,\n",
       " 'sensações': 1,\n",
       " 'sequer': 1,\n",
       " 'sobretudo': 1,\n",
       " 'subtileza': 1,\n",
       " 'suposto': 1,\n",
       " 'todas': 1,\n",
       " 'tudo': 2,\n",
       " 'um': 1,\n",
       " 'violentas': 1,\n",
       " 'é': 1}"
      ]
     },
     "execution_count": 139,
     "metadata": {},
     "output_type": "execute_result"
    }
   ],
   "source": [
    "wordfreq"
   ]
  },
  {
   "cell_type": "markdown",
   "metadata": {},
   "source": [
    "3- Dadas as características do Calendário Gregoriano:  \n",
    "\n",
    " + Janeiro, Março, Maio, Julho, Agosto, Outubro e Dezembro têm trinta e um dias;\n",
    " + Abril, Junho, Setembro e Novembro têm trinta dias;\n",
    " + Fevereiro tem 28 dias, exceto em anos bissextos, quando tem 29.\n",
    " + Anos bissextos ocorrem quando o ano for divisível por 4, mas não quando for divisível por 100, exceto quando for divisível também por 400.\n",
    " \n",
    " + 1o de Janeiro de 1900 caiu em uma segunda-feira.\n",
    "\n",
    "Responda: Quantos sábados cairam no dia primeiro do mês durante o século XX? (1o de Janeiro de 1901 até 31 Dezembro de 2000)?\n"
   ]
  },
  {
   "cell_type": "code",
   "execution_count": null,
   "metadata": {
    "collapsed": true
   },
   "outputs": [],
   "source": []
  },
  {
   "cell_type": "markdown",
   "metadata": {},
   "source": [
    "4- Procure gerar um número (pseudo-)aleatório entre 0 e 9 de forma criativa, usando funções geradoras e o módulo time. \n",
    "Não utilize o módulo random."
   ]
  },
  {
   "cell_type": "code",
   "execution_count": 4,
   "metadata": {},
   "outputs": [],
   "source": [
    "## exemplo para inspirar vocês. Há que se verificar se os números gerados parecem ser aleatórios.\n",
    "import time\n",
    "\n",
    "def numero_aleatorio():\n",
    "    x = time.time()\n",
    "    while True:\n",
    "        num = time.time() - x\n",
    "        #print(num)\n",
    "        num = [n for n in str(num) if n.isdigit()]\n",
    "        num = num[6]\n",
    "        yield int(num)\n",
    "\n",
    "gen = numero_aleatorio()"
   ]
  },
  {
   "cell_type": "code",
   "execution_count": 8,
   "metadata": {},
   "outputs": [
    {
     "name": "stdout",
     "output_type": "stream",
     "text": [
      "7\n"
     ]
    }
   ],
   "source": [
    "print(next(gen))"
   ]
  },
  {
   "cell_type": "code",
   "execution_count": 133,
   "metadata": {},
   "outputs": [
    {
     "data": {
      "text/plain": [
       "'7'"
      ]
     },
     "execution_count": 133,
     "metadata": {},
     "output_type": "execute_result"
    }
   ],
   "source": [
    "import time\n",
    "x = time.time()\n",
    "y = str(x)\n",
    "num = y[-1]\n",
    "num\n",
    "  "
   ]
  },
  {
   "cell_type": "code",
   "execution_count": null,
   "metadata": {},
   "outputs": [],
   "source": []
  }
 ],
 "metadata": {
  "kernelspec": {
   "display_name": "Python 3",
   "language": "python",
   "name": "python3"
  },
  "language_info": {
   "codemirror_mode": {
    "name": "ipython",
    "version": 3
   },
   "file_extension": ".py",
   "mimetype": "text/x-python",
   "name": "python",
   "nbconvert_exporter": "python",
   "pygments_lexer": "ipython3",
   "version": "3.5.2"
  }
 },
 "nbformat": 4,
 "nbformat_minor": 2
}
