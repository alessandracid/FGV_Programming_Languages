{
 "cells": [
  {
   "cell_type": "code",
   "execution_count": 99,
   "metadata": {},
   "outputs": [],
   "source": [
    "# Somente estes módulos podem ser importados para a realização das questões\n",
    "import numpy as np\n",
    "import matplotlib.pyplot as plt\n",
    "import requests\n",
    "from bs4 import BeautifulSoup as bs\n",
    "import math\n",
    "import string as str\n",
    "%matplotlib inline"
   ]
  },
  {
   "cell_type": "markdown",
   "metadata": {},
   "source": [
    "Questão 1 (1,5 pontos)  \n",
    "\n",
    "Mostre graficamente que $ \\sin ^2 x + \\cos^2 x = 1. $  \n",
    "\n",
    "Dica: para melhor visualização do gráfico, mude a escala dos eixos com $plt.axis([x_{min},x_{max},y_{min},y_{max}])$"
   ]
  },
  {
   "cell_type": "code",
   "execution_count": 115,
   "metadata": {},
   "outputs": [
    {
     "data": {
      "text/plain": [
       "[<matplotlib.lines.Line2D at 0x7f174e56d5c0>]"
      ]
     },
     "execution_count": 115,
     "metadata": {},
     "output_type": "execute_result"
    },
    {
     "data": {
      "image/png": "[encoded data removed]",
      "text/plain": [
       "<Figure size 432x288 with 1 Axes>"
      ]
     },
     "metadata": {},
     "output_type": "display_data"
    }
   ],
   "source": [
    "x = np.linspace(0,2*np.pi,2000)\n",
    "plt.plot(np.sin(x)**2)\n",
    "plt.plot(np.cos(x)**2)\n",
    "plt.plot(np.sin(x)**2+(np.cos(x)**2))"
   ]
  },
  {
   "cell_type": "markdown",
   "metadata": {},
   "source": [
    "Questão 2 (2.5 pontos)  \n",
    "\n",
    "Partindo do código abaixo, escreva comandos para realizar as seguintes tarefas:\n",
    "- Identificar os candidatos a nomes próprios do texto e a frequência com que aparecem;\n",
    "- Identificar as 5 palavras mais comuns;\n",
    "- Identificar os tritongos;\n",
    "- Salvar os resultados em um arquivo chamado \"respostas_q2.txt\" no computador"
   ]
  },
  {
   "cell_type": "code",
   "execution_count": 100,
   "metadata": {},
   "outputs": [],
   "source": [
    "url = 'http://norvig.com/big.txt'\n",
    "page = requests.get(url)\n",
    "html = page.text\n",
    "sopa = bs(html, \"lxml\")\n",
    "texto = sopa.text"
   ]
  },
  {
   "cell_type": "code",
   "execution_count": 124,
   "metadata": {},
   "outputs": [
    {
     "data": {
      "text/plain": [
       "str"
      ]
     },
     "execution_count": 124,
     "metadata": {},
     "output_type": "execute_result"
    }
   ],
   "source": [
    "type(texto)"
   ]
  },
  {
   "cell_type": "code",
   "execution_count": 125,
   "metadata": {},
   "outputs": [
    {
     "data": {
      "text/plain": [
       "['Campos',\n",
       " 'Meirelles',\n",
       " 'Fazenda',\n",
       " 'Brasil.',\n",
       " 'BankBoston',\n",
       " 'Banco',\n",
       " 'Central',\n",
       " 'Brasil',\n",
       " 'Lula.',\n",
       " 'Chairman',\n",
       " 'Lazard',\n",
       " 'Americas,',\n",
       " 'Nova',\n",
       " 'York,',\n",
       " 'Kolberg,',\n",
       " 'Roberts',\n",
       " 'Conselho',\n",
       " \"Lloyd's\",\n",
       " 'London,',\n",
       " 'J&F',\n",
       " 'Investimentos,',\n",
       " 'Conselho',\n",
       " 'Administração',\n",
       " 'Azul',\n",
       " 'Linhas',\n",
       " 'Aéreas',\n",
       " 'Brasileiras,',\n",
       " 'R$',\n",
       " 'Meirelles',\n",
       " 'Presidência',\n",
       " 'República',\n",
       " 'Brasil',\n",
       " 'MDB.']"
      ]
     },
     "execution_count": 125,
     "metadata": {},
     "output_type": "execute_result"
    }
   ],
   "source": [
    "texto4 = '''\n",
    "Henrique de Campos Meirelles (Anápolis, 31 de agosto de 1945) é um executivo da área financeira, político e ex-Ministro da Fazenda do Brasil. Considerado uma das figuras mais respeitadas do ambiente financeiro brasileiro internacional, foi presidente internacional do BankBoston (principal executivo) e presidente do Banco Central do Brasil (BCB), cargo que ocupou de 2003 a 2011, durante o governo Lula. Foi Chairman do Lazard Americas, banco de investimento sediado em Nova York, senior advisor da Kolberg, Kravis and Roberts (KKR), uma empresa global de investimentos, membro do Conselho da Lloyd's of London, empresa global de seguros,  membro do conselho consultivo da J&F Investimentos, membro do Conselho de Administração da Azul Linhas Aéreas Brasileiras, entre outros. Tem patrimônio declarado de R$ 377 milhões de reais.\n",
    "\n",
    "Atualmente, Meirelles é candidato à Presidência da República do Brasil pelo MDB.'''\n",
    "a2 = texto4.split()\n",
    "lista = []\n",
    "for w in a2: \n",
    "    test = w[0].isupper()\n",
    "    location = a2.index(w)\n",
    "    prevlocation = location-1\n",
    "    prev = a2[prevlocation]\n",
    "    prevlastl = prev[-1]\n",
    "    punct = str.punctuation\n",
    "    if test == True and prevlastl not in punct:\n",
    "        lista.append(w)\n",
    "lista"
   ]
  },
  {
   "cell_type": "code",
   "execution_count": 126,
   "metadata": {},
   "outputs": [
    {
     "data": {
      "text/plain": [
       "['Fazenda',\n",
       " 'Aéreas',\n",
       " 'Americas,',\n",
       " 'R$',\n",
       " 'Brasil.',\n",
       " 'Banco',\n",
       " 'Conselho',\n",
       " 'República',\n",
       " 'Campos',\n",
       " 'Administração',\n",
       " 'Lazard',\n",
       " \"Lloyd's\",\n",
       " 'York,',\n",
       " 'Nova',\n",
       " 'Roberts',\n",
       " 'BankBoston',\n",
       " 'Azul',\n",
       " 'Chairman',\n",
       " 'Lula.',\n",
       " 'Kolberg,',\n",
       " 'Investimentos,',\n",
       " 'Kravis',\n",
       " 'MDB.',\n",
       " 'Meirelles',\n",
       " 'Central',\n",
       " 'London,',\n",
       " 'Brasileiras,',\n",
       " 'J&F',\n",
       " 'Linhas',\n",
       " 'Brasil',\n",
       " 'Presidência']"
      ]
     },
     "execution_count": 126,
     "metadata": {},
     "output_type": "execute_result"
    }
   ],
   "source": [
    "texto4 = '''\n",
    "Henrique de Campos Meirelles (Anápolis, 31 de agosto de 1945) é um executivo da área financeira, político e ex-Ministro da Fazenda do Brasil. Considerado uma das figuras mais respeitadas do ambiente financeiro brasileiro internacional, foi presidente internacional do BankBoston (principal executivo) e presidente do Banco Central do Brasil (BCB), cargo que ocupou de 2003 a 2011, durante o governo Lula. Foi Chairman do Lazard Americas, banco de investimento sediado em Nova York, senior advisor da Kolberg, Kravis and Roberts (KKR), uma empresa global de investimentos, membro do Conselho da Lloyd's of London, empresa global de seguros,  membro do conselho consultivo da J&F Investimentos, membro do Conselho de Administração da Azul Linhas Aéreas Brasileiras, entre outros. Tem patrimônio declarado de R$ 377 milhões de reais.\n",
    "\n",
    "Atualmente, Meirelles é candidato à Presidência da República do Brasil pelo MDB.'''\n",
    "a2 = texto4.split()\n",
    "a3 = set(a2)\n",
    "lista = []\n",
    "for w in a3: \n",
    "    test = w[0].isupper()\n",
    "    location = a2.index(w)\n",
    "    prevlocation = location-1\n",
    "    prev = a2[prevlocation]\n",
    "    prevlastl = prev[-1]\n",
    "    punct = \".\"\n",
    "    if test == True and prevlastl != punct:\n",
    "        lista.append(w)\n",
    "lista"
   ]
  },
  {
   "cell_type": "markdown",
   "metadata": {},
   "source": [
    "Letra a"
   ]
  },
  {
   "cell_type": "code",
   "execution_count": 120,
   "metadata": {},
   "outputs": [
    {
     "name": "stdout",
     "output_type": "stream",
     "text": [
      "['Henrique', 'de', 'Campos', 'Meirelles', '(Anápolis,', '31', 'de', 'agosto', 'de', '1945)', 'é', 'um', 'executivo', 'da', 'área', 'financeira,', 'político', 'e', 'ex-Ministro', 'da', 'Fazenda', 'do', 'Brasil.', 'Considerado', 'uma', 'das', 'figuras', 'mais', 'respeitadas', 'do', 'ambiente', 'financeiro', 'brasileiro', 'internacional,', 'foi', 'presidente', 'internacional', 'do', 'BankBoston', '(principal', 'executivo)', 'e', 'presidente', 'do', 'Banco', 'Central', 'do', 'Brasil', '(BCB),', 'cargo', 'que', 'ocupou', 'de', '2003', 'a', '2011,', 'durante', 'o', 'governo', 'Lula.', 'Foi', 'Chairman', 'do', 'Lazard', 'Americas,', 'banco', 'de', 'investimento', 'sediado', 'em', 'Nova', 'York,', 'senior', 'advisor', 'da', 'Kolberg,', 'Kravis', 'and', 'Roberts', '(KKR),', 'uma', 'empresa', 'global', 'de', 'investimentos,', 'membro', 'do', 'Conselho', 'da', \"Lloyd's\", 'of', 'London,', 'empresa', 'global', 'de', 'seguros,', 'membro', 'do', 'conselho', 'consultivo', 'da', 'J&F', 'Investimentos,', 'membro', 'do', 'Conselho', 'de', 'Administração', 'da', 'Azul', 'Linhas', 'Aéreas', 'Brasileiras,', 'entre', 'outros.', 'Tem', 'patrimônio', 'declarado', 'de', 'R$', '377', 'milhões', 'de', 'reais.', 'Atualmente,', 'Meirelles', 'é', 'candidato', 'à', 'Presidência', 'da', 'República', 'do', 'Brasil', 'pelo', 'MDB.']\n",
      "['Campos', 'Meirelles', 'Fazenda', 'Brasil.', 'BankBoston', 'Banco', 'Central', 'Brasil', 'Lula.', 'Chairman', 'Lazard', 'Americas,', 'Nova', 'York,', 'Kolberg,', 'Kravis', 'Roberts', 'Conselho', \"Lloyd's\", 'London,', 'J&F', 'Investimentos,', 'Conselho', 'Administração', 'Azul', 'Linhas', 'Aéreas', 'Brasileiras,', 'R$', 'Meirelles', 'Presidência', 'República', 'Brasil', 'MDB.']\n"
     ]
    }
   ],
   "source": [
    "texto2 = '''\n",
    "Henrique de Campos Meirelles (Anápolis, 31 de agosto de 1945) é um executivo da área financeira, político e ex-Ministro da Fazenda do Brasil. Considerado uma das figuras mais respeitadas do ambiente financeiro brasileiro internacional, foi presidente internacional do BankBoston (principal executivo) e presidente do Banco Central do Brasil (BCB), cargo que ocupou de 2003 a 2011, durante o governo Lula. Foi Chairman do Lazard Americas, banco de investimento sediado em Nova York, senior advisor da Kolberg, Kravis and Roberts (KKR), uma empresa global de investimentos, membro do Conselho da Lloyd's of London, empresa global de seguros,  membro do conselho consultivo da J&F Investimentos, membro do Conselho de Administração da Azul Linhas Aéreas Brasileiras, entre outros. Tem patrimônio declarado de R$ 377 milhões de reais.\n",
    "\n",
    "Atualmente, Meirelles é candidato à Presidência da República do Brasil pelo MDB.'''\n",
    "\n",
    "lista = texto2.split()\n",
    "conjunto = set(lista)\n",
    "nome = []\n",
    "\n",
    "dicio = {}\n",
    "for x in conjunto:\n",
    "    dicio[x] = lista.count(x)\n",
    "\n",
    "print(lista)\n",
    "\n",
    "contador = 0\n",
    "\n",
    "for x in lista:\n",
    "    contador = contador+1\n",
    "    anterior = lista[contador-2]\n",
    "    \n",
    "    if (x[0]).isupper() and anterior[len(anterior)-1] != \".\":\n",
    "        nome.append(x)\n",
    "        \n",
    "print(nome)"
   ]
  },
  {
   "cell_type": "markdown",
   "metadata": {},
   "source": [
    "Letra b"
   ]
  },
  {
   "cell_type": "code",
   "execution_count": 162,
   "metadata": {},
   "outputs": [],
   "source": [
    "texto5 = '''\n",
    "Henrique de Campos Meirelles (Anápolis, 31 de agosto de 1945) é um executivo da área financeira, político e ex-Ministro da Fazenda do Brasil. Considerado uma das figuras mais respeitadas do ambiente financeiro brasileiro internacional, foi presidente internacional do BankBoston (principal executivo) e presidente do Banco Central do Brasil (BCB), cargo que ocupou de 2003 a 2011, durante o governo Lula. Foi Chairman do Lazard Americas, banco de investimento sediado em Nova York, senior advisor da Kolberg, Kravis and Roberts (KKR), uma empresa global de investimentos, membro do Conselho da Lloyd's of London, empresa global de seguros,  membro do conselho consultivo da J&F Investimentos, membro do Conselho de Administração da Azul Linhas Aéreas Brasileiras, entre outros. Tem patrimônio declarado de R$ 377 milhões de reais.\n",
    "\n",
    "Atualmente, Meirelles é candidato à Presidência da República do Brasil pelo MDB.'''\n",
    "\n",
    "listan = texto5.split()\n",
    "conjunto = set(listan)\n",
    "nome = []\n",
    "\n",
    "dicio2 = {}\n",
    "for x in conjunto:\n",
    "    dicio2[x] = listan.count(x)"
   ]
  },
  {
   "cell_type": "code",
   "execution_count": 163,
   "metadata": {},
   "outputs": [
    {
     "data": {
      "text/plain": [
       "['de', 'membro', 'da', 'do']"
      ]
     },
     "execution_count": 163,
     "metadata": {},
     "output_type": "execute_result"
    }
   ],
   "source": [
    "rank = []\n",
    "freq = sorted(dicio.values())\n",
    "freq = freq[-4:]\n",
    "for w in dicio2:\n",
    "    if dicio2[w] in freq:\n",
    "        rank.append(w)\n",
    "rank"
   ]
  },
  {
   "cell_type": "code",
   "execution_count": 175,
   "metadata": {},
   "outputs": [
    {
     "data": {
      "text/plain": [
       "{'(Anápolis,',\n",
       " '(BCB),',\n",
       " '(KKR),',\n",
       " '(principal',\n",
       " '1945)',\n",
       " '2003',\n",
       " '2011,',\n",
       " '31',\n",
       " '377',\n",
       " 'Administração',\n",
       " 'Americas,',\n",
       " 'Atualmente,',\n",
       " 'Azul',\n",
       " 'Aéreas',\n",
       " 'Banco',\n",
       " 'BankBoston',\n",
       " 'Brasil',\n",
       " 'Brasil.',\n",
       " 'Brasileiras,',\n",
       " 'Campos',\n",
       " 'Central',\n",
       " 'Chairman',\n",
       " 'Conselho',\n",
       " 'Considerado',\n",
       " 'Fazenda',\n",
       " 'Foi',\n",
       " 'Henrique',\n",
       " 'Investimentos,',\n",
       " 'J&F',\n",
       " 'Kolberg,',\n",
       " 'Kravis',\n",
       " 'Lazard',\n",
       " 'Linhas',\n",
       " \"Lloyd's\",\n",
       " 'London,',\n",
       " 'Lula.',\n",
       " 'MDB.',\n",
       " 'Meirelles',\n",
       " 'Nova',\n",
       " 'Presidência',\n",
       " 'R$',\n",
       " 'República',\n",
       " 'Roberts',\n",
       " 'Tem',\n",
       " 'York,',\n",
       " 'a',\n",
       " 'advisor',\n",
       " 'agosto',\n",
       " 'ambiente',\n",
       " 'and',\n",
       " 'banco',\n",
       " 'brasileiro',\n",
       " 'candidato',\n",
       " 'cargo',\n",
       " 'conselho',\n",
       " 'consultivo',\n",
       " 'da',\n",
       " 'das',\n",
       " 'de',\n",
       " 'declarado',\n",
       " 'do',\n",
       " 'durante',\n",
       " 'e',\n",
       " 'em',\n",
       " 'empresa',\n",
       " 'entre',\n",
       " 'ex-Ministro',\n",
       " 'executivo',\n",
       " 'executivo)',\n",
       " 'figuras',\n",
       " 'financeira,',\n",
       " 'financeiro',\n",
       " 'foi',\n",
       " 'global',\n",
       " 'governo',\n",
       " 'internacional',\n",
       " 'internacional,',\n",
       " 'investimento',\n",
       " 'investimentos,',\n",
       " 'mais',\n",
       " 'membro',\n",
       " 'milhões',\n",
       " 'o',\n",
       " 'ocupou',\n",
       " 'of',\n",
       " 'outros.',\n",
       " 'patrimônio',\n",
       " 'pelo',\n",
       " 'político',\n",
       " 'presidente',\n",
       " 'que',\n",
       " 'reais.',\n",
       " 'respeitadas',\n",
       " 'sediado',\n",
       " 'seguros,',\n",
       " 'senior',\n",
       " 'um',\n",
       " 'uma',\n",
       " 'à',\n",
       " 'área',\n",
       " 'é'}"
      ]
     },
     "execution_count": 175,
     "metadata": {},
     "output_type": "execute_result"
    }
   ],
   "source": [
    "conjunto"
   ]
  },
  {
   "cell_type": "markdown",
   "metadata": {},
   "source": [
    "letra c"
   ]
  },
  {
   "cell_type": "code",
   "execution_count": 174,
   "metadata": {},
   "outputs": [
    {
     "ename": "IndexError",
     "evalue": "string index out of range",
     "output_type": "error",
     "traceback": [
      "\u001b[0;31m---------------------------------------------------------------------------\u001b[0m",
      "\u001b[0;31mIndexError\u001b[0m                                Traceback (most recent call last)",
      "\u001b[0;32m<ipython-input-174-d5aaf0ddd81f>\u001b[0m in \u001b[0;36m<module>\u001b[0;34m()\u001b[0m\n\u001b[1;32m      9\u001b[0m             \u001b[0manterior\u001b[0m \u001b[0;34m=\u001b[0m \u001b[0mw\u001b[0m\u001b[0;34m.\u001b[0m\u001b[0mindex\u001b[0m\u001b[0;34m(\u001b[0m\u001b[0ml\u001b[0m\u001b[0;34m)\u001b[0m\u001b[0;34m-\u001b[0m\u001b[0;36m1\u001b[0m\u001b[0;34m\u001b[0m\u001b[0m\n\u001b[1;32m     10\u001b[0m             \u001b[0mseguinte\u001b[0m \u001b[0;34m=\u001b[0m \u001b[0mw\u001b[0m\u001b[0;34m.\u001b[0m\u001b[0mindex\u001b[0m\u001b[0;34m(\u001b[0m\u001b[0ml\u001b[0m\u001b[0;34m)\u001b[0m\u001b[0;34m+\u001b[0m\u001b[0;36m1\u001b[0m\u001b[0;34m\u001b[0m\u001b[0m\n\u001b[0;32m---> 11\u001b[0;31m             \u001b[0;32mif\u001b[0m \u001b[0ml\u001b[0m \u001b[0;32min\u001b[0m \u001b[0mvogais\u001b[0m \u001b[0;32mand\u001b[0m \u001b[0mw\u001b[0m\u001b[0;34m[\u001b[0m\u001b[0manterior\u001b[0m\u001b[0;34m]\u001b[0m \u001b[0;32min\u001b[0m \u001b[0mvogais\u001b[0m \u001b[0;32mand\u001b[0m \u001b[0mw\u001b[0m\u001b[0;34m[\u001b[0m\u001b[0mseguinte\u001b[0m\u001b[0;34m]\u001b[0m \u001b[0;32min\u001b[0m \u001b[0mvogais\u001b[0m\u001b[0;34m:\u001b[0m\u001b[0;34m\u001b[0m\u001b[0m\n\u001b[0m\u001b[1;32m     12\u001b[0m                 \u001b[0mtritongos\u001b[0m\u001b[0;34m.\u001b[0m\u001b[0mappend\u001b[0m\u001b[0;34m(\u001b[0m\u001b[0mw\u001b[0m\u001b[0;34m)\u001b[0m\u001b[0;34m\u001b[0m\u001b[0m\n\u001b[1;32m     13\u001b[0m \u001b[0mtritongos\u001b[0m\u001b[0;34m\u001b[0m\u001b[0m\n",
      "\u001b[0;31mIndexError\u001b[0m: string index out of range"
     ]
    }
   ],
   "source": [
    "\n",
    "tritongos=[]\n",
    "vogais = [\"a\", \"e\", \"i\", \"o\", \"u\"]\n",
    "lista10 = texto5.split()\n",
    "conjunto2 = set(lista10)\n",
    "for w in conjunto2:\n",
    "    for l in w:\n",
    "        ultimaletra = len(w)-1\n",
    "        if w.index(l) != 0 or w.index(l) != ultimaletra:  \n",
    "            anterior = w.index(l)-1\n",
    "            seguinte = w.index(l)+1\n",
    "            if l in vogais and w[anterior] in vogais and w[seguinte] in vogais:\n",
    "                tritongos.append(w)\n",
    "                continue \n",
    "tritongos"
   ]
  },
  {
   "cell_type": "code",
   "execution_count": 178,
   "metadata": {},
   "outputs": [
    {
     "data": {
      "text/plain": [
       "0"
      ]
     },
     "execution_count": 178,
     "metadata": {},
     "output_type": "execute_result"
    }
   ],
   "source": [
    "teste = \"ksmak\"\n",
    "teste.index(\"k\")"
   ]
  },
  {
   "cell_type": "code",
   "execution_count": 165,
   "metadata": {},
   "outputs": [
    {
     "data": {
      "text/plain": [
       "{'(Anápolis,',\n",
       " '(BCB),',\n",
       " '(KKR),',\n",
       " '(principal',\n",
       " '1945)',\n",
       " '2003',\n",
       " '2011,',\n",
       " '31',\n",
       " '377',\n",
       " 'Administração',\n",
       " 'Americas,',\n",
       " 'Atualmente,',\n",
       " 'Azul',\n",
       " 'Aéreas',\n",
       " 'Banco',\n",
       " 'BankBoston',\n",
       " 'Brasil',\n",
       " 'Brasil.',\n",
       " 'Brasileiras,',\n",
       " 'Campos',\n",
       " 'Central',\n",
       " 'Chairman',\n",
       " 'Conselho',\n",
       " 'Considerado',\n",
       " 'Fazenda',\n",
       " 'Foi',\n",
       " 'Henrique',\n",
       " 'Investimentos,',\n",
       " 'J&F',\n",
       " 'Kolberg,',\n",
       " 'Kravis',\n",
       " 'Lazard',\n",
       " 'Linhas',\n",
       " \"Lloyd's\",\n",
       " 'London,',\n",
       " 'Lula.',\n",
       " 'MDB.',\n",
       " 'Meirelles',\n",
       " 'Nova',\n",
       " 'Presidência',\n",
       " 'R$',\n",
       " 'República',\n",
       " 'Roberts',\n",
       " 'Tem',\n",
       " 'York,',\n",
       " 'a',\n",
       " 'advisor',\n",
       " 'agosto',\n",
       " 'ambiente',\n",
       " 'and',\n",
       " 'banco',\n",
       " 'brasileiro',\n",
       " 'candidato',\n",
       " 'cargo',\n",
       " 'conselho',\n",
       " 'consultivo',\n",
       " 'da',\n",
       " 'das',\n",
       " 'de',\n",
       " 'declarado',\n",
       " 'do',\n",
       " 'durante',\n",
       " 'e',\n",
       " 'em',\n",
       " 'empresa',\n",
       " 'entre',\n",
       " 'ex-Ministro',\n",
       " 'executivo',\n",
       " 'executivo)',\n",
       " 'figuras',\n",
       " 'financeira,',\n",
       " 'financeiro',\n",
       " 'foi',\n",
       " 'global',\n",
       " 'governo',\n",
       " 'internacional',\n",
       " 'internacional,',\n",
       " 'investimento',\n",
       " 'investimentos,',\n",
       " 'mais',\n",
       " 'membro',\n",
       " 'milhões',\n",
       " 'o',\n",
       " 'ocupou',\n",
       " 'of',\n",
       " 'outros.',\n",
       " 'patrimônio',\n",
       " 'pelo',\n",
       " 'político',\n",
       " 'presidente',\n",
       " 'que',\n",
       " 'reais.',\n",
       " 'respeitadas',\n",
       " 'sediado',\n",
       " 'seguros,',\n",
       " 'senior',\n",
       " 'um',\n",
       " 'uma',\n",
       " 'à',\n",
       " 'área',\n",
       " 'é'}"
      ]
     },
     "execution_count": 165,
     "metadata": {},
     "output_type": "execute_result"
    }
   ],
   "source": [
    "conjunto2"
   ]
  },
  {
   "cell_type": "raw",
   "metadata": {},
   "source": [
    "letra d"
   ]
  },
  {
   "cell_type": "code",
   "execution_count": 181,
   "metadata": {},
   "outputs": [
    {
     "ename": "TypeError",
     "evalue": "'module' object is not callable",
     "output_type": "error",
     "traceback": [
      "\u001b[0;31m---------------------------------------------------------------------------\u001b[0m",
      "\u001b[0;31mTypeError\u001b[0m                                 Traceback (most recent call last)",
      "\u001b[0;32m<ipython-input-181-ad8c9a122380>\u001b[0m in \u001b[0;36m<module>\u001b[0;34m()\u001b[0m\n\u001b[0;32m----> 1\u001b[0;31m \u001b[0mconjuntostr\u001b[0m \u001b[0;34m=\u001b[0m \u001b[0mstr\u001b[0m\u001b[0;34m(\u001b[0m\u001b[0mconjunto2\u001b[0m\u001b[0;34m)\u001b[0m\u001b[0;34m\u001b[0m\u001b[0m\n\u001b[0m",
      "\u001b[0;31mTypeError\u001b[0m: 'module' object is not callable"
     ]
    }
   ],
   "source": [
    "a = \"hjsnjakns\""
   ]
  },
  {
   "cell_type": "code",
   "execution_count": 182,
   "metadata": {},
   "outputs": [],
   "source": [
    "with open(\"test1.txt\", \"a\") as myfile:\n",
    "    myfile.write(a)"
   ]
  },
  {
   "cell_type": "markdown",
   "metadata": {},
   "source": [
    "Questão 3 (3 pontos)  \n",
    "\n",
    "Uma permutação é um arranjo ordenado de objetos. Por exemplo, $ 3124 \\ $ é uma das possíveis permutações dos dígitos $1, 2, 3$ e $4$. Se todas as permutações são ordenadas numericamente, chamamos a este arranjo de ordem lexicográfica. As permutações lexicográficas de $0, 1$ e $2$ são:  \n",
    "\n",
    "$012\\;021\\;102\\;120\\;201\\;210$    \n",
    "\n",
    "Qual o milionésimo elemento da ordenação lexicográfica dos dígitos $0, 1, 2, 3, 4, 5, 6, 7, 8$ e $9$?   "
   ]
  },
  {
   "cell_type": "code",
   "execution_count": 189,
   "metadata": {},
   "outputs": [
    {
     "data": {
      "text/plain": [
       "[0, 1, 2, 3, 4, 5, 6, 7, 8, 9]"
      ]
     },
     "execution_count": 189,
     "metadata": {},
     "output_type": "execute_result"
    }
   ],
   "source": [
    "lis = []\n",
    "for i in range(0,10,1):\n",
    "    x = \n"
   ]
  },
  {
   "cell_type": "markdown",
   "metadata": {},
   "source": [
    "Questão 4 (3 pontos) \n",
    "\n",
    "Implemente em Python uma classe chamada “Drone” com as seguintes propriedades:  \n",
    "- Quando instanciado, tem bateria carregada e está na posição $(x=0,y=0,z=0)$ metros;  \n",
    "- Possui bateria para duração 20 minutos;  \n",
    "- Consegue andar 1 m/s na vertical e 2 m/s na horizontal;  \n",
    "- Possui o metodo “voar”, que recebe uma coordenada de destino $(x_1,y_1)$. Esse método calcula a distância a navegar e avalia se o drone possui energia para chegar nestas coordenadas.  \n",
    "- Possui métodos para carregar a bateria, dizer a autonomia da bateria (em segundos), dizer a distância percorrida desde a última carga e a distância total percorrida desde que foi instanciado.  \n",
    "- Possui um método para dizer a coordenada atual\n",
    "\n",
    "OBS: Considere que o drone sempre ascende verticalmente até 20m antes de se deslocar horizontalmente, e percorre a mesma distância verticalmente. A distância percorrida na horizontal é o menor caminho entre as coordenadas de origem e destino. Use a fórmula: $$distância = \\sqrt{(x_1-x_0)^2 + (y_1-y_0)^2}$$"
   ]
  },
  {
   "cell_type": "code",
   "execution_count": 191,
   "metadata": {},
   "outputs": [],
   "source": [
    "class Drone:\n",
    "    def __init__(self):\n",
    "        self.x = 0\n",
    "        self.y = 0\n",
    "        self.z = 0\n",
    "        self.bateria = 20 * 60\n",
    "        self.odometro_total = 0 \n",
    "        self.odometro_parcial = 0\n",
    "        \n",
    "    def mostra_carga(self):\n",
    "        print('A Carga da bateria atual é de {:.3f} segundos de vôo'.format(self.bateria))\n",
    "        \n",
    "    def carrega_bateria(self):\n",
    "        self.mostra_carga()\n",
    "        print('Bateria sendo carregada...')\n",
    "        self.bateria = 20 * 60\n",
    "        self.odometro_parcial = 0\n",
    "    \n",
    "    def mostra_coordenada(self):\n",
    "        print('O Drone se encontra em: \\nX:\\t{}\\nY:\\t{}\\nZ:\\t{}'.format(self.x, self.y, self.z))\n",
    "        print('O Drone andou {:.3f} metros no total'.format(self.odometro_total))\n",
    "        print('O Drone andou {:.3f} mestros desde a última carga'.format(self.odometro_parcial))\n",
    "    \n",
    "    def voar_para(self,x,y):\n",
    "        distancia = ((x-self.x)**2 + (y-self.y)**2)**0.5\n",
    "        tempo_de_voo = 20 + distancia/2 + 20\n",
    "        print('O tempo de vôo estimado é de {:.3f} segundos'.format(tempo_de_voo))\n",
    "        if self.bateria >= tempo_de_voo:\n",
    "            print('Voando...')\n",
    "            self.x = x\n",
    "            self.y = y\n",
    "            self.bateria -= tempo_de_voo\n",
    "            self.odometro_total += distancia\n",
    "            self.odometro_parcial += distancia\n",
    "            self.mostra_coordenada()\n",
    "        else:\n",
    "            print('A bateria só tem autonomia para {:.3f} segundos de vôo'.format(self.bateria))\n",
    "\n"
   ]
  },
  {
   "cell_type": "code",
   "execution_count": 192,
   "metadata": {},
   "outputs": [],
   "source": [
    "my_drone = Drone()"
   ]
  },
  {
   "cell_type": "code",
   "execution_count": 193,
   "metadata": {},
   "outputs": [
    {
     "name": "stdout",
     "output_type": "stream",
     "text": [
      "O Drone se encontra em: \n",
      "X:\t0\n",
      "Y:\t0\n",
      "Z:\t0\n",
      "O Drone andou 0.000 metros no total\n",
      "O Drone andou 0.000 mestros desde a última carga\n"
     ]
    }
   ],
   "source": [
    "my_drone.mostra_coordenada()"
   ]
  },
  {
   "cell_type": "code",
   "execution_count": 194,
   "metadata": {},
   "outputs": [
    {
     "name": "stdout",
     "output_type": "stream",
     "text": [
      "O tempo de vôo estimado é de 67.042 segundos\n",
      "Voando...\n",
      "O Drone se encontra em: \n",
      "X:\t30\n",
      "Y:\t45\n",
      "Z:\t0\n",
      "O Drone andou 54.083 metros no total\n",
      "O Drone andou 54.083 mestros desde a última carga\n"
     ]
    }
   ],
   "source": [
    "my_drone.voar_para(30,45)"
   ]
  },
  {
   "cell_type": "code",
   "execution_count": 195,
   "metadata": {},
   "outputs": [
    {
     "name": "stdout",
     "output_type": "stream",
     "text": [
      "A Carga da bateria atual é de 1132.958 segundos de vôo\n"
     ]
    }
   ],
   "source": [
    "my_drone.mostra_carga()"
   ]
  },
  {
   "cell_type": "code",
   "execution_count": 196,
   "metadata": {},
   "outputs": [
    {
     "name": "stdout",
     "output_type": "stream",
     "text": [
      "O tempo de vôo estimado é de 1017.551 segundos\n",
      "Voando...\n",
      "O Drone se encontra em: \n",
      "X:\t10\n",
      "Y:\t2000\n",
      "Z:\t0\n",
      "O Drone andou 2009.186 metros no total\n",
      "O Drone andou 2009.186 mestros desde a última carga\n"
     ]
    }
   ],
   "source": [
    "my_drone.voar_para(10,2000)"
   ]
  },
  {
   "cell_type": "markdown",
   "metadata": {},
   "source": [
    "Questão Bônus (0,5 pontos)  \n",
    "\n",
    "O problema de Monty Hall, também conhecido por paradoxo de Monty Hall é um problema matemático e paradoxo que surgiu a partir de um concurso televisivo dos Estados Unidos chamado \"Let’s Make a Deal\", exibido na década de 1970. O jogo consiste no seguinte: Monty Hall (o apresentador) apresentava 3 portas aos concorrentes, sabendo que atrás de uma delas está um carro (prêmio bom) e que as outras têm prêmios de pouco valor.\n",
    "\n",
    "- Na 1ª etapa o concorrente escolhe uma porta (que ainda não é aberta);  \n",
    "- Em seguida, Monty abre uma das outras duas portas que o concorrente não escolheu, sabendo de antemão que o carro não se encontra na porta que abrirá;  \n",
    "- Agora com duas portas apenas para escolher — pois uma delas já se viu, na 2ª etapa, que não tinha o prêmio — e sabendo que o carro está atrás de uma delas, o concorrente tem que se decidir se permanece com a porta que escolheu no início do jogo e abre-a ou se muda para a outra porta que ainda está fechada para então a abrir.  \n",
    "\n",
    "Demonstre graficamente que é mais provável ganhar o prêmio se trocar de porta do que se não o fizer. Quais as probabilidade de acertar, em ambos os casos?"
   ]
  }
 ],
 "metadata": {
  "kernelspec": {
   "display_name": "Python 3",
   "language": "python",
   "name": "python3"
  },
  "language_info": {
   "codemirror_mode": {
    "name": "ipython",
    "version": 3
   },
   "file_extension": ".py",
   "mimetype": "text/x-python",
   "name": "python",
   "nbconvert_exporter": "python",
   "pygments_lexer": "ipython3",
   "version": "3.5.2"
  }
 },
 "nbformat": 4,
 "nbformat_minor": 2
}
