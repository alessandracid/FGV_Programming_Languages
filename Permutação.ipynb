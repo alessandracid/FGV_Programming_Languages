{
 "cells": [
  {
   "cell_type": "code",
   "execution_count": null,
   "metadata": {},
   "outputs": [],
   "source": [
    "lista2 = []\n",
    "\n",
    "def permutations(head, tail=''):\n",
    "    if len(lista2) < 1000000:\n",
    "        if len(head) == 0: lista2.append(tail)\n",
    "        else:\n",
    "            for i in range(len(head)):\n",
    "                permutations(head[0:i] + head[i+1:], tail+head[i])\n",
    "\n",
    "permutations('0123456789')\n",
    "print(lista2[999999])"
   ]
  }
 ],
 "metadata": {
  "kernelspec": {
   "display_name": "Python 3",
   "language": "python",
   "name": "python3"
  },
  "language_info": {
   "codemirror_mode": {
    "name": "ipython",
    "version": 3
   },
   "file_extension": ".py",
   "mimetype": "text/x-python",
   "name": "python",
   "nbconvert_exporter": "python",
   "pygments_lexer": "ipython3",
   "version": "3.5.2"
  }
 },
 "nbformat": 4,
 "nbformat_minor": 2
}
