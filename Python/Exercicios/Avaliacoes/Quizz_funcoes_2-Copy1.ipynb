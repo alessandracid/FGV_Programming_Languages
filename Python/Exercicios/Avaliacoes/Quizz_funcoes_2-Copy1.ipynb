{
 "cells": [
  {
   "cell_type": "markdown",
   "metadata": {},
   "source": [
    "1 - Dadas uma lista qualquer, como a do exemplo abaixo:"
   ]
  },
  {
   "cell_type": "code",
   "execution_count": 33,
   "metadata": {},
   "outputs": [],
   "source": [
    "lista = [1,2,3,'4',5,6.3,7.4 + 2j,\"123\",[1,2,3], 93, \"98\", (1,2,3,'4')]"
   ]
  },
  {
   "cell_type": "code",
   "execution_count": null,
   "metadata": {},
   "outputs": [],
   "source": []
  },
  {
   "cell_type": "markdown",
   "metadata": {},
   "source": [
    "Crie uma função recursiva para imprimir o antecessor e o sucessor de cada elemento de uma lista:\n",
    "+ Caso este elemento seja inteiro, imprimir o valor;  \n",
    "+ Caso seja uma string, imprimir o inteiro correspondente;  \n",
    "+ Caso seja um real, imprima a parte inteira;\n",
    "+ Caso seja um imaginário, imprima a parte inteira e real;\n",
    "+ Caso seja uma sequência, aplique as regras acima para cada elemento da sequência.  "
   ]
  },
  {
   "cell_type": "code",
   "execution_count": 37,
   "metadata": {},
   "outputs": [],
   "source": [
    "def coder(num):\n",
    "    if type(num) == int:\n",
    "        print(num)\n",
    "    \n",
    "    elif type(num) == str or type(num) == float:\n",
    "        print(int(num))\n",
    "        \n",
    "    elif type(num) == float:\n",
    "        print(num.real)\n",
    "        \n",
    "    elif type(num) == complex:\n",
    "        a = num.real\n",
    "        b = int(a)\n",
    "        print(b)\n",
    "        print(a-b)\n",
    "        \n",
    "    elif type(num) == list:\n",
    "        listador(num)\n",
    "    \n",
    "    elif type(num) == set:\n",
    "        transf_set(num)\n",
    "        \n",
    "    \n",
    "def listador(item):\n",
    "\n",
    "    for i in item:\n",
    "        tam=len(item)\n",
    "        print(\"\\nNúmero referencial: \" + str(i))\n",
    "        \n",
    "        if item.index(i) != 0:\n",
    "            print(\"Antecessor:\")\n",
    "            ant = lista[item.index(i)-1]\n",
    "            coder(ant)\n",
    "\n",
    "        if item.index(i) != tam-1:\n",
    "            print(\"Sucessor:\")\n",
    "            suc = lista[item.index(i)+1]\n",
    "            coder(suc)\n",
    "\n",
    "                    \n",
    "    \n",
    "def transf_set(item):\n",
    "\n",
    "    for i in item:\n",
    "        tam=len(item)\n",
    "        print(\"\\nNúmero referencial: \" + str(i))\n",
    "        \n",
    "        if item.index(i) != 0:\n",
    "            print(\"Antecessor:\")\n",
    "            ant = item.index(i)-1]\n",
    "            coder(ant)\n",
    "\n",
    "        if item.index(i) != tam-1:\n",
    "            print(\"Sucessor:\")\n",
    "            suc = lista[item.index(i)+1]\n",
    "            coder(suc)\n",
    "    "
   ]
  },
  {
   "cell_type": "code",
   "execution_count": 40,
   "metadata": {},
   "outputs": [
    {
     "data": {
      "text/plain": [
       "1"
      ]
     },
     "execution_count": 40,
     "metadata": {},
     "output_type": "execute_result"
    }
   ],
   "source": [
    "x=(2,3)\n",
    "x.index(3)"
   ]
  },
  {
   "cell_type": "code",
   "execution_count": 38,
   "metadata": {},
   "outputs": [
    {
     "name": "stdout",
     "output_type": "stream",
     "text": [
      "\n",
      "Número referencial: 1\n",
      "Sucessor:\n",
      "2\n",
      "\n",
      "Número referencial: 2\n",
      "Antecessor:\n",
      "1\n",
      "Sucessor:\n",
      "3\n",
      "\n",
      "Número referencial: 3\n",
      "Antecessor:\n",
      "2\n",
      "Sucessor:\n",
      "4\n",
      "\n",
      "Número referencial: 4\n",
      "Antecessor:\n",
      "3\n",
      "Sucessor:\n",
      "5\n",
      "\n",
      "Número referencial: 5\n",
      "Antecessor:\n",
      "4\n",
      "Sucessor:\n",
      "6\n",
      "\n",
      "Número referencial: 6.3\n",
      "Antecessor:\n",
      "5\n",
      "Sucessor:\n",
      "7\n",
      "0.40000000000000036\n",
      "\n",
      "Número referencial: (7.4+2j)\n",
      "Antecessor:\n",
      "6\n",
      "Sucessor:\n",
      "123\n",
      "\n",
      "Número referencial: 123\n",
      "Antecessor:\n",
      "7\n",
      "0.40000000000000036\n",
      "Sucessor:\n",
      "\n",
      "Número referencial: 1\n",
      "Sucessor:\n",
      "2\n",
      "\n",
      "Número referencial: 2\n",
      "Antecessor:\n",
      "1\n",
      "Sucessor:\n",
      "3\n",
      "\n",
      "Número referencial: 3\n",
      "Antecessor:\n",
      "2\n",
      "\n",
      "Número referencial: [1, 2, 3]\n",
      "Antecessor:\n",
      "123\n",
      "Sucessor:\n",
      "93\n",
      "\n",
      "Número referencial: 93\n",
      "Antecessor:\n",
      "\n",
      "Número referencial: 1\n",
      "Sucessor:\n",
      "2\n",
      "\n",
      "Número referencial: 2\n",
      "Antecessor:\n",
      "1\n",
      "Sucessor:\n",
      "3\n",
      "\n",
      "Número referencial: 3\n",
      "Antecessor:\n",
      "2\n",
      "Sucessor:\n",
      "98\n",
      "\n",
      "Número referencial: 98\n",
      "Antecessor:\n",
      "93\n",
      "Sucessor:\n",
      "\n",
      "Número referencial: (1, 2, 3, '4')\n",
      "Antecessor:\n",
      "98\n"
     ]
    }
   ],
   "source": [
    "coder(lista)"
   ]
  },
  {
   "cell_type": "markdown",
   "metadata": {},
   "source": [
    "2 - Crie uma função, ou conjunto de funções, para exibir por extenso o valor de qualquer número inteiro até 1000.  \n",
    "Exemplo:  \n",
    "\n",
    "    print(imprime_extenso(234))  \n",
    "    > 'duzentos e trinta e quatro'  "
   ]
  },
  {
   "cell_type": "code",
   "execution_count": null,
   "metadata": {
    "collapsed": true
   },
   "outputs": [],
   "source": []
  },
  {
   "cell_type": "markdown",
   "metadata": {},
   "source": [
    "3- Em alguns lugares é comum lembrar um número do telefone associando seus dígitos a letras. Dessa maneira a expressão MY LOVE significa 69 5683. Claro que existem alguns problemas, uma vez que alguns números de telefone não formam uma palavra ou uma frase e os dígitos 1 e 0 não estão associados a nenhuma letra.  \n",
    "\n",
    "Sua tarefa é ler uma expressão e encontrar o número de telefone correspondente baseado na tabela abaixo. Uma expressão é composta por letras maiúsculas (A-Z), hifens (-) e os números 1 e 0.  \n",
    "\n",
    "Letras  ->  Número  \n",
    "ABC    ->  2   \n",
    "DEF    ->  3   \n",
    "GHI    ->  4   \n",
    "JKL    ->  5   \n",
    "MNO    ->  6   \n",
    "PQRS    ->  7   \n",
    "TUV    ->  8   \n",
    "WXYZ   ->  9   \n",
    "\n",
    "Entrada  \n",
    "\n",
    "A entrada consiste de um conjunto de expressões. Cada expressão está sozinha em uma linha e possui C caracteres, onde 1 ≤ C ≤ 30. A entrada é terminada por fim de arquivo (EOF).  \n",
    "\n",
    "Saída  \n",
    "\n",
    "Para cada expressão você deve imprimir o número de telefone correspondente.  \n",
    "\n",
    "Exemplo de entrada:  \n",
    "\n",
    "1-HOME-SWEET-HOME  \n",
    "MY-MISERABLE-JOB  \n",
    "\n",
    "Saída correspondente:\n",
    "\n",
    "1-4663-79338-4663  \n",
    "69-647372253-562  "
   ]
  },
  {
   "cell_type": "code",
   "execution_count": 30,
   "metadata": {},
   "outputs": [],
   "source": [
    "def tele_frase(frase):\n",
    "    saida = \"\"\n",
    "    for w in frase:\n",
    "        if w == \"1\" or w== \"0\":\n",
    "            saida=saida+str(w)\n",
    "        elif w == \"-\":\n",
    "            saida=saida+w\n",
    "        elif w == \"A\" or w ==\"B\" or w == \"C\":\n",
    "            saida=saida+\"2\"\n",
    "        elif w == \"D\" or w ==\"E\" or w == \"F\":\n",
    "            saida=saida+\"3\"\n",
    "        elif w == \"G\" or w ==\"H\" or w == \"I\":\n",
    "            saida=saida+\"4\"\n",
    "        elif w == \"J\" or w ==\"K\" or w == \"L\":\n",
    "            saida=saida+\"5\"\n",
    "        elif w == \"M\" or w ==\"N\" or w == \"O\":\n",
    "            saida=saida+\"6\"\n",
    "        elif w == \"P\" or w ==\"Q\" or w == \"R\" or w == \"S\":\n",
    "            saida=saida+\"7\"\n",
    "        elif w == \"T\" or w ==\"U\" or w == \"V\":\n",
    "            saida=saida+\"8\"\n",
    "        elif w == \"W\" or w ==\"X\" or w == \"Y\" or w == \"Z\":\n",
    "            saida=saida+\"9\"\n",
    "    print(saida)"
   ]
  },
  {
   "cell_type": "code",
   "execution_count": 36,
   "metadata": {},
   "outputs": [
    {
     "name": "stdout",
     "output_type": "stream",
     "text": [
      "43556\n"
     ]
    }
   ],
   "source": [
    "tele_frase(\"HELLO\")"
   ]
  },
  {
   "cell_type": "markdown",
   "metadata": {},
   "source": [
    "4- Dada um texto em formato string, encontre todas as palavras pertencentes a esta string que contenham uma determinada letra, passada como parâmetro. "
   ]
  },
  {
   "cell_type": "code",
   "execution_count": 12,
   "metadata": {},
   "outputs": [],
   "source": [
    "def encon_palavra(texto,letra):\n",
    "    text = texto.split()\n",
    "    for word in text:\n",
    "        x=0\n",
    "        for letter in word:\n",
    "            if letter == letra and x == 0: \n",
    "                x = x+1\n",
    "                print(word)"
   ]
  },
  {
   "cell_type": "code",
   "execution_count": 13,
   "metadata": {},
   "outputs": [
    {
     "name": "stdout",
     "output_type": "stream",
     "text": [
      "iasjkaiojsa\n",
      "kkjk\n"
     ]
    }
   ],
   "source": [
    "x = \"asam iasjkaiojsa kkjk\"\n",
    "encon_palavra(x,\"j\")"
   ]
  }
 ],
 "metadata": {
  "kernelspec": {
   "display_name": "Python 3",
   "language": "python",
   "name": "python3"
  },
  "language_info": {
   "codemirror_mode": {
    "name": "ipython",
    "version": 3
   },
   "file_extension": ".py",
   "mimetype": "text/x-python",
   "name": "python",
   "nbconvert_exporter": "python",
   "pygments_lexer": "ipython3",
   "version": "3.5.2"
  }
 },
 "nbformat": 4,
 "nbformat_minor": 2
}
