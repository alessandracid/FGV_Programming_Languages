{
 "cells": [
  {
   "cell_type": "code",
   "execution_count": null,
   "metadata": {},
   "outputs": [],
   "source": [
    "#1A\n",
    "\n",
    "texto2 = \"\"\n",
    "\n",
    "pontuacao = string.punctuation\n",
    "pontuacao = pontuacao + \"—\" + \"«\" + \"»\"\n",
    "\n",
    "for word in texto:\n",
    "    if word not in pontuacao:\n",
    "        texto2 = texto2 + word.lower()\n",
    "    texto2\n",
    "    \n",
    "texto3 = texto2.split()\n",
    "\n",
    "wordfreq = {}\n",
    "for word in texto3:\n",
    "    if word not in wordfreq:\n",
    "        wordfreq[word] = 0\n",
    "    wordfreq[word] += 1\n",
    "wordfreq"
   ]
  },
  {
   "cell_type": "markdown",
   "metadata": {},
   "source": [
    "FAZER: 1B, 1E\n"
   ]
  },
  {
   "cell_type": "code",
   "execution_count": null,
   "metadata": {},
   "outputs": [],
   "source": [
    "#testando\n",
    "b = [1,2,3,4,5,6,7,8]\n",
    "c = {}\n",
    "for i in b:\n",
    "    x = n.count(i)\n",
    "    c[i] = x\n",
    "c"
   ]
  }
 ],
 "metadata": {
  "kernelspec": {
   "display_name": "Python 3",
   "language": "python",
   "name": "python3"
  },
  "language_info": {
   "codemirror_mode": {
    "name": "ipython",
    "version": 3
   },
   "file_extension": ".py",
   "mimetype": "text/x-python",
   "name": "python",
   "nbconvert_exporter": "python",
   "pygments_lexer": "ipython3",
   "version": "3.5.2"
  }
 },
 "nbformat": 4,
 "nbformat_minor": 2
}
